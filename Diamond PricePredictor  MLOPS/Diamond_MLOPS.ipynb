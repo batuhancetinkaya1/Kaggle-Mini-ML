{
 "cells": [
  {
   "cell_type": "markdown",
   "id": "9609da1f-28e2-460d-9c64-95d335e68d5f",
   "metadata": {
    "jp-MarkdownHeadingCollapsed": true
   },
   "source": [
    "# 1) Creating The Model"
   ]
  },
  {
   "cell_type": "code",
   "execution_count": 1,
   "id": "d44ab929-6515-4198-ba07-445fd8c8d8ac",
   "metadata": {},
   "outputs": [],
   "source": [
    "import pandas as pd\n",
    "import numpy as np\n",
    "import matplotlib.pyplot as plt\n",
    "import seaborn as sns"
   ]
  },
  {
   "cell_type": "code",
   "execution_count": 2,
   "id": "6b9823f8-4e59-4a64-aa09-2cb911bd9e57",
   "metadata": {},
   "outputs": [
    {
     "data": {
      "text/html": [
       "<div>\n",
       "<style scoped>\n",
       "    .dataframe tbody tr th:only-of-type {\n",
       "        vertical-align: middle;\n",
       "    }\n",
       "\n",
       "    .dataframe tbody tr th {\n",
       "        vertical-align: top;\n",
       "    }\n",
       "\n",
       "    .dataframe thead th {\n",
       "        text-align: right;\n",
       "    }\n",
       "</style>\n",
       "<table border=\"1\" class=\"dataframe\">\n",
       "  <thead>\n",
       "    <tr style=\"text-align: right;\">\n",
       "      <th></th>\n",
       "      <th>Unnamed: 0</th>\n",
       "      <th>carat</th>\n",
       "      <th>cut</th>\n",
       "      <th>color</th>\n",
       "      <th>clarity</th>\n",
       "      <th>depth</th>\n",
       "      <th>table</th>\n",
       "      <th>price</th>\n",
       "      <th>x</th>\n",
       "      <th>y</th>\n",
       "      <th>z</th>\n",
       "    </tr>\n",
       "  </thead>\n",
       "  <tbody>\n",
       "    <tr>\n",
       "      <th>4013</th>\n",
       "      <td>4014</td>\n",
       "      <td>0.79</td>\n",
       "      <td>Very Good</td>\n",
       "      <td>F</td>\n",
       "      <td>SI1</td>\n",
       "      <td>62.9</td>\n",
       "      <td>57.0</td>\n",
       "      <td>3519</td>\n",
       "      <td>5.86</td>\n",
       "      <td>5.94</td>\n",
       "      <td>3.71</td>\n",
       "    </tr>\n",
       "    <tr>\n",
       "      <th>41645</th>\n",
       "      <td>41646</td>\n",
       "      <td>0.40</td>\n",
       "      <td>Ideal</td>\n",
       "      <td>E</td>\n",
       "      <td>VVS2</td>\n",
       "      <td>62.1</td>\n",
       "      <td>55.0</td>\n",
       "      <td>1238</td>\n",
       "      <td>4.76</td>\n",
       "      <td>4.74</td>\n",
       "      <td>2.95</td>\n",
       "    </tr>\n",
       "    <tr>\n",
       "      <th>24416</th>\n",
       "      <td>24417</td>\n",
       "      <td>2.08</td>\n",
       "      <td>Premium</td>\n",
       "      <td>H</td>\n",
       "      <td>SI2</td>\n",
       "      <td>62.8</td>\n",
       "      <td>60.0</td>\n",
       "      <td>12655</td>\n",
       "      <td>8.12</td>\n",
       "      <td>8.03</td>\n",
       "      <td>5.07</td>\n",
       "    </tr>\n",
       "    <tr>\n",
       "      <th>32591</th>\n",
       "      <td>32592</td>\n",
       "      <td>0.32</td>\n",
       "      <td>Ideal</td>\n",
       "      <td>G</td>\n",
       "      <td>VVS1</td>\n",
       "      <td>62.1</td>\n",
       "      <td>54.0</td>\n",
       "      <td>802</td>\n",
       "      <td>4.40</td>\n",
       "      <td>4.43</td>\n",
       "      <td>2.74</td>\n",
       "    </tr>\n",
       "    <tr>\n",
       "      <th>23439</th>\n",
       "      <td>23440</td>\n",
       "      <td>1.70</td>\n",
       "      <td>Very Good</td>\n",
       "      <td>D</td>\n",
       "      <td>SI2</td>\n",
       "      <td>60.8</td>\n",
       "      <td>59.0</td>\n",
       "      <td>11431</td>\n",
       "      <td>7.76</td>\n",
       "      <td>7.83</td>\n",
       "      <td>4.75</td>\n",
       "    </tr>\n",
       "    <tr>\n",
       "      <th>51867</th>\n",
       "      <td>51868</td>\n",
       "      <td>0.78</td>\n",
       "      <td>Ideal</td>\n",
       "      <td>J</td>\n",
       "      <td>VS1</td>\n",
       "      <td>61.4</td>\n",
       "      <td>57.0</td>\n",
       "      <td>2426</td>\n",
       "      <td>5.90</td>\n",
       "      <td>5.93</td>\n",
       "      <td>3.63</td>\n",
       "    </tr>\n",
       "    <tr>\n",
       "      <th>42196</th>\n",
       "      <td>42197</td>\n",
       "      <td>0.58</td>\n",
       "      <td>Good</td>\n",
       "      <td>G</td>\n",
       "      <td>VS2</td>\n",
       "      <td>63.2</td>\n",
       "      <td>58.0</td>\n",
       "      <td>1287</td>\n",
       "      <td>5.36</td>\n",
       "      <td>5.28</td>\n",
       "      <td>3.36</td>\n",
       "    </tr>\n",
       "    <tr>\n",
       "      <th>13997</th>\n",
       "      <td>13998</td>\n",
       "      <td>1.01</td>\n",
       "      <td>Ideal</td>\n",
       "      <td>G</td>\n",
       "      <td>SI1</td>\n",
       "      <td>62.6</td>\n",
       "      <td>56.0</td>\n",
       "      <td>5698</td>\n",
       "      <td>6.37</td>\n",
       "      <td>6.41</td>\n",
       "      <td>4.00</td>\n",
       "    </tr>\n",
       "    <tr>\n",
       "      <th>11703</th>\n",
       "      <td>11704</td>\n",
       "      <td>0.34</td>\n",
       "      <td>Premium</td>\n",
       "      <td>H</td>\n",
       "      <td>VS1</td>\n",
       "      <td>61.6</td>\n",
       "      <td>59.0</td>\n",
       "      <td>596</td>\n",
       "      <td>4.49</td>\n",
       "      <td>4.54</td>\n",
       "      <td>2.78</td>\n",
       "    </tr>\n",
       "    <tr>\n",
       "      <th>11192</th>\n",
       "      <td>11193</td>\n",
       "      <td>1.00</td>\n",
       "      <td>Ideal</td>\n",
       "      <td>G</td>\n",
       "      <td>SI1</td>\n",
       "      <td>61.6</td>\n",
       "      <td>55.0</td>\n",
       "      <td>4956</td>\n",
       "      <td>6.51</td>\n",
       "      <td>6.41</td>\n",
       "      <td>3.98</td>\n",
       "    </tr>\n",
       "  </tbody>\n",
       "</table>\n",
       "</div>"
      ],
      "text/plain": [
       "       Unnamed: 0  carat        cut color clarity  depth  table  price     x  \\\n",
       "4013         4014   0.79  Very Good     F     SI1   62.9   57.0   3519  5.86   \n",
       "41645       41646   0.40      Ideal     E    VVS2   62.1   55.0   1238  4.76   \n",
       "24416       24417   2.08    Premium     H     SI2   62.8   60.0  12655  8.12   \n",
       "32591       32592   0.32      Ideal     G    VVS1   62.1   54.0    802  4.40   \n",
       "23439       23440   1.70  Very Good     D     SI2   60.8   59.0  11431  7.76   \n",
       "51867       51868   0.78      Ideal     J     VS1   61.4   57.0   2426  5.90   \n",
       "42196       42197   0.58       Good     G     VS2   63.2   58.0   1287  5.36   \n",
       "13997       13998   1.01      Ideal     G     SI1   62.6   56.0   5698  6.37   \n",
       "11703       11704   0.34    Premium     H     VS1   61.6   59.0    596  4.49   \n",
       "11192       11193   1.00      Ideal     G     SI1   61.6   55.0   4956  6.51   \n",
       "\n",
       "          y     z  \n",
       "4013   5.94  3.71  \n",
       "41645  4.74  2.95  \n",
       "24416  8.03  5.07  \n",
       "32591  4.43  2.74  \n",
       "23439  7.83  4.75  \n",
       "51867  5.93  3.63  \n",
       "42196  5.28  3.36  \n",
       "13997  6.41  4.00  \n",
       "11703  4.54  2.78  \n",
       "11192  6.41  3.98  "
      ]
     },
     "execution_count": 2,
     "metadata": {},
     "output_type": "execute_result"
    }
   ],
   "source": [
    "df = pd.read_csv(\"data/10-diamonds.csv\")\n",
    "df.sample(10)"
   ]
  },
  {
   "cell_type": "code",
   "execution_count": 3,
   "id": "6432fdd4-5c65-4940-94cf-9ceb3fe0485c",
   "metadata": {},
   "outputs": [],
   "source": [
    "df.drop(\"Unnamed: 0\", axis=1, inplace=True)\n",
    "\n",
    "df.drop(df[df[\"x\"] == 0].index, inplace=True)\n",
    "df.drop(df[df[\"y\"] == 0].index, inplace=True )\n",
    "df.drop(df[df[\"z\"] == 0].index, inplace=True )\n",
    "\n",
    "df = df[df[\"y\"] <= 20]\n",
    "df = df[(df[\"z\"] >= 2) & (df[\"z\"] <= 30)]\n",
    "df = df[(df[\"table\"] <= 75) & (df[\"table\"] >= 40)]\n",
    "df = df[(df[\"depth\"] <= 75) & (df[\"depth\"] >= 45)]"
   ]
  },
  {
   "cell_type": "code",
   "execution_count": 4,
   "id": "2c393dbf-d0e4-4699-8758-6e9aeda01564",
   "metadata": {},
   "outputs": [],
   "source": [
    "from sklearn.model_selection import train_test_split\n",
    "\n",
    "X=df.drop(\"price\", axis=1)\n",
    "y=df[\"price\"]\n",
    "X_train, X_test, y_train, y_test = train_test_split(X,y,test_size=0.25,random_state=15)"
   ]
  },
  {
   "cell_type": "markdown",
   "id": "442cc411-92ba-494a-a82c-80ca5c1d7563",
   "metadata": {},
   "source": [
    "## A) Encoders Dict"
   ]
  },
  {
   "cell_type": "code",
   "execution_count": 5,
   "id": "e83a7c3c-fa76-46b1-b8bc-f74944b5219a",
   "metadata": {},
   "outputs": [],
   "source": [
    "from sklearn.preprocessing import LabelEncoder\n",
    "\n",
    "encoders = {} # BU KISIM MLOPS İÇİN ÖNEMLİ\n",
    "for col in [\"cut\", \"color\", \"clarity\"]:\n",
    "    encoders[col] = LabelEncoder()\n",
    "    X_train[col] = encoders[col].fit_transform(X_train[col]) # trainde fit transform\n",
    "    X_test[col] = encoders[col].transform(X_test[col])       # testte sadece transform\n"
   ]
  },
  {
   "cell_type": "code",
   "execution_count": 6,
   "id": "a44b673e-8a6a-48bb-bb6e-09ab06aaa740",
   "metadata": {},
   "outputs": [],
   "source": [
    "from sklearn.preprocessing import StandardScaler\n",
    "scaler         = StandardScaler()\n",
    "X_train_scaled = scaler.fit_transform(X_train)\n",
    "X_test_scaled  = scaler.transform(X_test)"
   ]
  },
  {
   "cell_type": "code",
   "execution_count": 7,
   "id": "d2d12b02-c31c-47c2-a478-945e9e2f5911",
   "metadata": {},
   "outputs": [],
   "source": [
    "#SVR\n",
    "from sklearn.svm import SVR\n",
    "\n",
    "svr = SVR(C=1000, gamma=0.1, kernel =\"rbf\")\n",
    "svr.fit(X_train_scaled, y_train)\n",
    "y_pred = svr.predict(X_test_scaled)"
   ]
  },
  {
   "cell_type": "code",
   "execution_count": 8,
   "id": "d26e9f11-b5ed-4a86-bd6b-670005d89be7",
   "metadata": {},
   "outputs": [
    {
     "name": "stdout",
     "output_type": "stream",
     "text": [
      "Mean absolute error:  480.6663510891438\n",
      "Mean squared error:  874992.2341646847\n",
      "R2 Score:  0.945542169060366\n"
     ]
    },
    {
     "data": {
      "image/png": "[encoded data removed]",
      "text/plain": [
       "<Figure size 640x480 with 1 Axes>"
      ]
     },
     "metadata": {},
     "output_type": "display_data"
    }
   ],
   "source": [
    "from sklearn.metrics import mean_squared_error, mean_absolute_error, r2_score\n",
    "mae = mean_absolute_error(y_test, y_pred)\n",
    "mse = mean_squared_error(y_test, y_pred)\n",
    "score = r2_score(y_test, y_pred)\n",
    "\n",
    "print(\"Mean absolute error: \", mae)\n",
    "print(\"Mean squared error: \", mse)\n",
    "print(\"R2 Score: \", score)\n",
    "\n",
    "plt.scatter(y_test, y_pred)\n",
    "plt.xlabel(\"Actual\")\n",
    "plt.ylabel(\"Predicted\")\n",
    "plt.title(\"Actual vs Predicted\")\n",
    "plt.show()"
   ]
  },
  {
   "cell_type": "markdown",
   "id": "715e26df-3b0e-48cb-955f-03a98f9e87ea",
   "metadata": {},
   "source": [
    "# 2) Pickle"
   ]
  },
  {
   "cell_type": "code",
   "execution_count": 9,
   "id": "228f657f-2f03-4d66-83b1-fe3d494fc6af",
   "metadata": {},
   "outputs": [],
   "source": [
    "import pickle \n",
    "\n",
    "with open(\"The_Model.pkl\", \"wb\") as f:\n",
    "    pickle.dump(\n",
    "        {\n",
    "            \"model\" : svr,\n",
    "            \"encoders\" : encoders,\n",
    "            \"scaler\" : scaler\n",
    "        }\n",
    "        ,f)"
   ]
  },
  {
   "cell_type": "code",
   "execution_count": 10,
   "id": "6405e1d8-3fe3-4041-b493-12a21b0bac8c",
   "metadata": {},
   "outputs": [],
   "source": [
    "pd.DataFrame(X_test_scaled).to_csv(\"testdatascaled.csv\", index=False)"
   ]
  },
  {
   "cell_type": "code",
   "execution_count": null,
   "id": "c22bd5a1-04ea-474e-b5e5-222c67d67e4b",
   "metadata": {},
   "outputs": [],
   "source": []
  }
 ],
 "metadata": {
  "kernelspec": {
   "display_name": "Python 3 (ipykernel)",
   "language": "python",
   "name": "python3"
  },
  "language_info": {
   "codemirror_mode": {
    "name": "ipython",
    "version": 3
   },
   "file_extension": ".py",
   "mimetype": "text/x-python",
   "name": "python",
   "nbconvert_exporter": "python",
   "pygments_lexer": "ipython3",
   "version": "3.10.11"
  }
 },
 "nbformat": 4,
 "nbformat_minor": 5
}
